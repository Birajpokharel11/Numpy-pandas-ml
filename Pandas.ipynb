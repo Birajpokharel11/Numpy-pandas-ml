{
 "cells": [
  {
   "cell_type": "code",
   "execution_count": 2,
   "id": "165888b8",
   "metadata": {},
   "outputs": [],
   "source": [
    "import pandas as pd"
   ]
  },
  {
   "cell_type": "code",
   "execution_count": 3,
   "id": "462c50c0",
   "metadata": {},
   "outputs": [
    {
     "data": {
      "text/plain": [
       "'1.4.4'"
      ]
     },
     "execution_count": 3,
     "metadata": {},
     "output_type": "execute_result"
    }
   ],
   "source": [
    "pd.__version__"
   ]
  },
  {
   "cell_type": "code",
   "execution_count": 35,
   "id": "0ce6ea25",
   "metadata": {
    "scrolled": true
   },
   "outputs": [
    {
     "data": {
      "text/plain": [
       "dtype('O')"
      ]
     },
     "execution_count": 35,
     "metadata": {},
     "output_type": "execute_result"
    }
   ],
   "source": [
    "products = ['A', 'B', 'C', 'D']\n",
    "size = pd.Series(products)\n",
    "size.dtype"
   ]
  },
  {
   "cell_type": "code",
   "execution_count": 52,
   "id": "08a991ba",
   "metadata": {},
   "outputs": [
    {
     "data": {
      "text/plain": [
       "dict"
      ]
     },
     "execution_count": 52,
     "metadata": {},
     "output_type": "execute_result"
    }
   ],
   "source": [
    "thisdict = {\n",
    "  \"brand\": 1964,\n",
    "  \"model\": 1964,\n",
    "  \"year\": 1964\n",
    "}\n",
    "type(thisdict)"
   ]
  },
  {
   "cell_type": "code",
   "execution_count": 54,
   "id": "2f1dc1b0",
   "metadata": {},
   "outputs": [
    {
     "data": {
      "text/plain": [
       "Index(['brand', 'model', 'year'], dtype='object')"
      ]
     },
     "execution_count": 54,
     "metadata": {},
     "output_type": "execute_result"
    }
   ],
   "source": [
    "product_categories = pd.Series(thisdict)\n",
    "\n",
    "product_categories.index\n",
    "\n"
   ]
  },
  {
   "cell_type": "code",
   "execution_count": 56,
   "id": "9b01b40c",
   "metadata": {},
   "outputs": [
    {
     "data": {
      "text/plain": [
       "RangeIndex(start=0, stop=7, step=1)"
      ]
     },
     "execution_count": 56,
     "metadata": {},
     "output_type": "execute_result"
    }
   ],
   "source": [
    "daily_rate= [1, 2, 3, 4, 5, 8, 9] \n",
    "daily_rate1= [1.2, 2.3, 3.4, 44.4, 5.4] \n",
    "\n",
    "pandas = pd.Series(daily_rate)\n",
    "pandas.index\n"
   ]
  },
  {
   "cell_type": "markdown",
   "id": "3b563e16",
   "metadata": {},
   "source": [
    "\n",
    "# Changing numpy arrays into series "
   ]
  },
  {
   "cell_type": "code",
   "execution_count": 10,
   "id": "06612af3",
   "metadata": {},
   "outputs": [],
   "source": [
    "import numpy as np"
   ]
  },
  {
   "cell_type": "code",
   "execution_count": 11,
   "id": "9a43118d",
   "metadata": {
    "scrolled": true
   },
   "outputs": [
    {
     "data": {
      "text/plain": [
       "numpy.ndarray"
      ]
     },
     "execution_count": 11,
     "metadata": {},
     "output_type": "execute_result"
    }
   ],
   "source": [
    "array_a = np.array([10, 20, 30, 40, 50])\n",
    "type(array_a)\n",
    "series_a = pd.Series(array_a)\n",
    "array_a.dtype"
   ]
  },
  {
   "cell_type": "markdown",
   "id": "64c426bc",
   "metadata": {},
   "source": [
    "# Indexing"
   ]
  },
  {
   "cell_type": "code",
   "execution_count": 57,
   "id": "314b1970",
   "metadata": {},
   "outputs": [],
   "source": [
    "series_a = pd.Series([10,20,30,40,50])\n",
    "prices_per_category = pd.Series({'Product A': 22250, 'Product B': 16600, 'Product C': 125000})"
   ]
  },
  {
   "cell_type": "code",
   "execution_count": 58,
   "id": "771ff78f",
   "metadata": {},
   "outputs": [
    {
     "data": {
      "text/plain": [
       "0    10\n",
       "1    20\n",
       "2    30\n",
       "3    40\n",
       "4    50\n",
       "dtype: int64"
      ]
     },
     "execution_count": 58,
     "metadata": {},
     "output_type": "execute_result"
    }
   ],
   "source": [
    "series_a"
   ]
  },
  {
   "cell_type": "code",
   "execution_count": 59,
   "id": "8c07b71e",
   "metadata": {},
   "outputs": [
    {
     "data": {
      "text/plain": [
       "Product A     22250\n",
       "Product B     16600\n",
       "Product C    125000\n",
       "dtype: int64"
      ]
     },
     "execution_count": 59,
     "metadata": {},
     "output_type": "execute_result"
    }
   ],
   "source": [
    "prices_per_category"
   ]
  },
  {
   "cell_type": "code",
   "execution_count": 67,
   "id": "15b4764e",
   "metadata": {},
   "outputs": [
    {
     "data": {
      "text/plain": [
       "20"
      ]
     },
     "execution_count": 67,
     "metadata": {},
     "output_type": "execute_result"
    }
   ],
   "source": [
    "series_a[0]"
   ]
  },
  {
   "cell_type": "code",
   "execution_count": 61,
   "id": "45c735bc",
   "metadata": {},
   "outputs": [
    {
     "data": {
      "text/plain": [
       "22250"
      ]
     },
     "execution_count": 61,
     "metadata": {},
     "output_type": "execute_result"
    }
   ],
   "source": [
    "prices_per_category['Product A']"
   ]
  },
  {
   "cell_type": "code",
   "execution_count": 62,
   "id": "8a1bc9a0",
   "metadata": {},
   "outputs": [
    {
     "data": {
      "text/plain": [
       "22250"
      ]
     },
     "execution_count": 62,
     "metadata": {},
     "output_type": "execute_result"
    }
   ],
   "source": [
    "prices_per_category[0]"
   ]
  },
  {
   "cell_type": "code",
   "execution_count": 65,
   "id": "0facfc25",
   "metadata": {},
   "outputs": [
    {
     "data": {
      "text/plain": [
       "1    10\n",
       "2    20\n",
       "3    30\n",
       "4    40\n",
       "5    50\n",
       "dtype: int64"
      ]
     },
     "execution_count": 65,
     "metadata": {},
     "output_type": "execute_result"
    }
   ],
   "source": [
    "series_b = pd.Series([10,20,30,40,50], index = [1,2,3,4,5])\n",
    "series_b"
   ]
  },
  {
   "cell_type": "code",
   "execution_count": 69,
   "id": "4d4f248c",
   "metadata": {},
   "outputs": [
    {
     "data": {
      "text/plain": [
       "10"
      ]
     },
     "execution_count": 69,
     "metadata": {},
     "output_type": "execute_result"
    }
   ],
   "source": [
    "series_b[1]"
   ]
  },
  {
   "cell_type": "code",
   "execution_count": 72,
   "id": "ec1174aa",
   "metadata": {},
   "outputs": [
    {
     "data": {
      "text/plain": [
       "1    10\n",
       "2    20\n",
       "3    30\n",
       "4    40\n",
       "5    50\n",
       "dtype: int64"
      ]
     },
     "execution_count": 72,
     "metadata": {},
     "output_type": "execute_result"
    }
   ],
   "source": [
    "series_c = pd.Series([10,20,30,40,50], index = ['1','2','3','4','5'])\n",
    "series_c"
   ]
  },
  {
   "cell_type": "code",
   "execution_count": 75,
   "id": "dc3bfe00",
   "metadata": {},
   "outputs": [],
   "source": [
    "series_c.name=\"int\""
   ]
  },
  {
   "cell_type": "code",
   "execution_count": 76,
   "id": "fce77814",
   "metadata": {},
   "outputs": [
    {
     "data": {
      "text/plain": [
       "1    10\n",
       "2    20\n",
       "3    30\n",
       "4    40\n",
       "5    50\n",
       "Name: int, dtype: int64"
      ]
     },
     "execution_count": 76,
     "metadata": {},
     "output_type": "execute_result"
    }
   ],
   "source": [
    "series_c"
   ]
  },
  {
   "cell_type": "code",
   "execution_count": 7,
   "id": "3a6edf1d",
   "metadata": {},
   "outputs": [
    {
     "data": {
      "text/plain": [
       "7/4/2011         2\n",
       "7/4/2012     20000\n",
       "7/4/2013    210000\n",
       "7/4/2014     20000\n",
       "7/4/2015        10\n",
       "dtype: int64"
      ]
     },
     "execution_count": 7,
     "metadata": {},
     "output_type": "execute_result"
    }
   ],
   "source": [
    "START_DATE_DEPOSITS = pd.Series({\n",
    "    '7/4/2011': 2,\n",
    "    '7/4/2012': 20000,\n",
    "    '7/4/2013': 210000,\n",
    "    '7/4/2014': 20000,\n",
    "    '7/4/2015': 10000,\n",
    "    '7/4/2015': 10,\n",
    "    \n",
    "    \n",
    "})\n",
    "START_DATE_DEPOSITS"
   ]
  },
  {
   "cell_type": "code",
   "execution_count": 7,
   "id": "540fdd48",
   "metadata": {},
   "outputs": [
    {
     "data": {
      "text/plain": [
       "70002"
      ]
     },
     "execution_count": 7,
     "metadata": {},
     "output_type": "execute_result"
    }
   ],
   "source": [
    "START_DATE_DEPOSITS.sum()"
   ]
  },
  {
   "cell_type": "code",
   "execution_count": 8,
   "id": "acc96aa9",
   "metadata": {},
   "outputs": [
    {
     "data": {
      "text/plain": [
       "2"
      ]
     },
     "execution_count": 8,
     "metadata": {},
     "output_type": "execute_result"
    }
   ],
   "source": [
    " START_DATE_DEPOSITS.min()"
   ]
  },
  {
   "cell_type": "code",
   "execution_count": 9,
   "id": "71231483",
   "metadata": {},
   "outputs": [
    {
     "data": {
      "text/plain": [
       "20000"
      ]
     },
     "execution_count": 9,
     "metadata": {},
     "output_type": "execute_result"
    }
   ],
   "source": [
    "START_DATE_DEPOSITS.max()"
   ]
  },
  {
   "cell_type": "code",
   "execution_count": 10,
   "id": "a870f399",
   "metadata": {},
   "outputs": [
    {
     "data": {
      "text/plain": [
       "'7/4/2011'"
      ]
     },
     "execution_count": 10,
     "metadata": {},
     "output_type": "execute_result"
    }
   ],
   "source": [
    "START_DATE_DEPOSITS.idxmin()"
   ]
  },
  {
   "cell_type": "code",
   "execution_count": 12,
   "id": "90983b1a",
   "metadata": {},
   "outputs": [
    {
     "data": {
      "text/plain": [
       "'7/4/2012'"
      ]
     },
     "execution_count": 12,
     "metadata": {},
     "output_type": "execute_result"
    }
   ],
   "source": [
    "START_DATE_DEPOSITS.idxmax()"
   ]
  },
  {
   "cell_type": "code",
   "execution_count": 13,
   "id": "937dd511",
   "metadata": {},
   "outputs": [
    {
     "data": {
      "text/plain": [
       "2"
      ]
     },
     "execution_count": 13,
     "metadata": {},
     "output_type": "execute_result"
    }
   ],
   "source": [
    "START_DATE_DEPOSITS[0]"
   ]
  },
  {
   "cell_type": "code",
   "execution_count": 8,
   "id": "47906c55",
   "metadata": {},
   "outputs": [
    {
     "data": {
      "text/plain": [
       "7/4/2011         2\n",
       "7/4/2012     20000\n",
       "7/4/2013    210000\n",
       "7/4/2014     20000\n",
       "7/4/2015        10\n",
       "dtype: int64"
      ]
     },
     "execution_count": 8,
     "metadata": {},
     "output_type": "execute_result"
    }
   ],
   "source": [
    "START_DATE_DEPOSITS.head()"
   ]
  },
  {
   "cell_type": "code",
   "execution_count": null,
   "id": "e936436f",
   "metadata": {},
   "outputs": [],
   "source": []
  },
  {
   "cell_type": "code",
   "execution_count": null,
   "id": "65dbdb40",
   "metadata": {},
   "outputs": [],
   "source": []
  }
 ],
 "metadata": {
  "kernelspec": {
   "display_name": "Python 3 (ipykernel)",
   "language": "python",
   "name": "python3"
  },
  "language_info": {
   "codemirror_mode": {
    "name": "ipython",
    "version": 3
   },
   "file_extension": ".py",
   "mimetype": "text/x-python",
   "name": "python",
   "nbconvert_exporter": "python",
   "pygments_lexer": "ipython3",
   "version": "3.9.12"
  }
 },
 "nbformat": 4,
 "nbformat_minor": 5
}
