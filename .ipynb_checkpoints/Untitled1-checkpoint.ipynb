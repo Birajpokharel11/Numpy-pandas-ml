{
 "cells": [
  {
   "cell_type": "markdown",
   "id": "13ab6c15",
   "metadata": {},
   "source": [
    "import numpy as np"
   ]
  },
  {
   "cell_type": "code",
   "execution_count": 22,
   "id": "27ec6234",
   "metadata": {},
   "outputs": [],
   "source": [
    "import numpy as np"
   ]
  },
  {
   "cell_type": "markdown",
   "id": "15139003",
   "metadata": {},
   "source": [
    "# Creating tensor\n"
   ]
  },
  {
   "cell_type": "code",
   "execution_count": 24,
   "id": "d1870305",
   "metadata": {},
   "outputs": [
    {
     "data": {
      "text/plain": [
       "array([[ 5, 12,  6],\n",
       "       [-3,  0, 14]])"
      ]
     },
     "execution_count": 24,
     "metadata": {},
     "output_type": "execute_result"
    }
   ],
   "source": [
    "m1  = np.array([[5,12,6], [-3,0,14]])\n",
    "m1"
   ]
  },
  {
   "cell_type": "code",
   "execution_count": 56,
   "id": "d0a691d5",
   "metadata": {},
   "outputs": [
    {
     "data": {
      "text/plain": [
       "array([[ 9,  1],\n",
       "       [ 8,  2],\n",
       "       [ 7, -5]])"
      ]
     },
     "execution_count": 56,
     "metadata": {},
     "output_type": "execute_result"
    }
   ],
   "source": [
    "m2 = np.array([[9,8,7], [1,2,-5]])\n",
    "m2.T"
   ]
  },
  {
   "cell_type": "code",
   "execution_count": 43,
   "id": "4ac55049",
   "metadata": {},
   "outputs": [
    {
     "data": {
      "text/plain": [
       "array([[-4,  4, -1],\n",
       "       [-4, -2, 19]])"
      ]
     },
     "execution_count": 43,
     "metadata": {},
     "output_type": "execute_result"
    }
   ],
   "source": [
    "m1 - m2\n"
   ]
  },
  {
   "cell_type": "markdown",
   "id": "baa6a338",
   "metadata": {},
   "source": [
    "# Example 2"
   ]
  },
  {
   "cell_type": "code",
   "execution_count": 47,
   "id": "e0f3db75",
   "metadata": {},
   "outputs": [
    {
     "data": {
      "text/plain": [
       "array([[  22.22,   -4.73],\n",
       "       [-202.12, 1200.1 ],\n",
       "       [1200.11,   -4.22]])"
      ]
     },
     "execution_count": 47,
     "metadata": {},
     "output_type": "execute_result"
    }
   ],
   "source": [
    "f1 = np.array([[22.22, -4.73], [-202.12, 1200.1], [1200.11, -4.22]])\n",
    "f1"
   ]
  },
  {
   "cell_type": "code",
   "execution_count": 48,
   "id": "c0fad602",
   "metadata": {},
   "outputs": [
    {
     "data": {
      "text/plain": [
       "array([[  12.22,  -41.73],\n",
       "       [-102.12, 2200.1 ],\n",
       "       [ 100.11,  -14.2 ]])"
      ]
     },
     "execution_count": 48,
     "metadata": {},
     "output_type": "execute_result"
    }
   ],
   "source": [
    "f2 = np.array([[12.22, -41.73], [-102.12, 2200.1], [100.11, -14.2]])\n",
    "f2"
   ]
  },
  {
   "cell_type": "code",
   "execution_count": 49,
   "id": "62ea914b",
   "metadata": {},
   "outputs": [
    {
     "data": {
      "text/plain": [
       "array([[   10.  ,    37.  ],\n",
       "       [ -100.  , -1000.  ],\n",
       "       [ 1100.  ,     9.98]])"
      ]
     },
     "execution_count": 49,
     "metadata": {},
     "output_type": "execute_result"
    }
   ],
   "source": [
    "f1 -f2"
   ]
  },
  {
   "cell_type": "markdown",
   "id": "77b86a21",
   "metadata": {},
   "source": [
    "# Adding vectors\n"
   ]
  },
  {
   "cell_type": "code",
   "execution_count": 54,
   "id": "117ff4ca",
   "metadata": {},
   "outputs": [
    {
     "data": {
      "text/plain": [
       "array([ 10.14, -37.  ])"
      ]
     },
     "execution_count": 54,
     "metadata": {},
     "output_type": "execute_result"
    }
   ],
   "source": [
    "v1 = np.array([12.52, -41.73])\n",
    "v2 = np.array([2.38, -4.73])\n",
    "v1-v2"
   ]
  },
  {
   "cell_type": "markdown",
   "id": "32b14357",
   "metadata": {},
   "source": [
    "# manually creating tensor"
   ]
  },
  {
   "cell_type": "code",
   "execution_count": 60,
   "id": "889c03ec",
   "metadata": {},
   "outputs": [
    {
     "data": {
      "text/plain": [
       "(2, 2, 3)"
      ]
     },
     "execution_count": 60,
     "metadata": {},
     "output_type": "execute_result"
    }
   ],
   "source": [
    "t_manual = np.array([[[5,12,6], [-3,0,14]], [[9,8,7], [1,3,-5]]])\n",
    "t_manual.shape\n"
   ]
  },
  {
   "cell_type": "code",
   "execution_count": 58,
   "id": "df82ef0c",
   "metadata": {},
   "outputs": [
    {
     "data": {
      "text/plain": [
       "array([[[ 5, 12,  6],\n",
       "        [-3,  0, 14]]])"
      ]
     },
     "execution_count": 58,
     "metadata": {},
     "output_type": "execute_result"
    }
   ],
   "source": [
    "t"
   ]
  },
  {
   "cell_type": "code",
   "execution_count": 80,
   "id": "d879459d",
   "metadata": {},
   "outputs": [
    {
     "data": {
      "text/plain": [
       "(2, 3)"
      ]
     },
     "execution_count": 80,
     "metadata": {},
     "output_type": "execute_result"
    }
   ],
   "source": [
    "x = np.array([[1,3,7], [1,4,5]])\n",
    "v = np.array([[1,3], [2,4], [1,3]])\n",
    "x.shape\n"
   ]
  },
  {
   "cell_type": "code",
   "execution_count": 72,
   "id": "25da866f",
   "metadata": {},
   "outputs": [
    {
     "data": {
      "text/plain": [
       "array([[1, 3, 7]])"
      ]
     },
     "execution_count": 72,
     "metadata": {},
     "output_type": "execute_result"
    }
   ],
   "source": [
    "l = x.reshape(1,3)\n",
    "l"
   ]
  },
  {
   "cell_type": "code",
   "execution_count": null,
   "id": "2951512d",
   "metadata": {},
   "outputs": [],
   "source": []
  }
 ],
 "metadata": {
  "kernelspec": {
   "display_name": "Python 3 (ipykernel)",
   "language": "python",
   "name": "python3"
  },
  "language_info": {
   "codemirror_mode": {
    "name": "ipython",
    "version": 3
   },
   "file_extension": ".py",
   "mimetype": "text/x-python",
   "name": "python",
   "nbconvert_exporter": "python",
   "pygments_lexer": "ipython3",
   "version": "3.9.12"
  }
 },
 "nbformat": 4,
 "nbformat_minor": 5
}
